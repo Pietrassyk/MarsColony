{
 "cells": [
  {
   "cell_type": "code",
   "execution_count": 10,
   "metadata": {},
   "outputs": [],
   "source": [
    "import Pioneers as p\n",
    "import numpy as np\n",
    "import names\n",
    "import matplotlib.pyplot as plt\n",
    "import pandas as pd\n",
    "\n",
    "from tqdm import tqdm\n",
    "np.random.seed(4)\n",
    "\n",
    "%matplotlib inline"
   ]
  },
  {
   "cell_type": "code",
   "execution_count": 2,
   "metadata": {},
   "outputs": [],
   "source": [
    "def plot_graphs():\n",
    "    plt.style.use(\"ggplot\")\n",
    "    fig = plt.figure(figsize = (15,10))\n",
    "    plt.plot(df.index,df.population_num)\n",
    "    plt.title(\"Mars Colony Population\")\n",
    "    plt.ylabel(\"Population\")\n",
    "    plt.xlabel(\"Years\")\n",
    "    plt.show();\n",
    "    fig2 = plt.figure(figsize = (15,10))\n",
    "    plt.title(\"Deaths and Birth Rates\")\n",
    "    plt.ylabel(\"Number\")\n",
    "    plt.xlabel(\"Years\")\n",
    "    plt.plot(df.index,df.death_ticker, color = \"grey\", label = \"death\", alpha = 0.9)\n",
    "    plt.plot(df.index,df.accident_ticker, color = \"red\", label = \"accident\")\n",
    "    plt.plot(df.index,df.birth_ticker, color = \"green\", label = \"birth\")\n",
    "    plt.legend()\n",
    "    plt.show();"
   ]
  },
  {
   "cell_type": "code",
   "execution_count": null,
   "metadata": {},
   "outputs": [],
   "source": [
    "#initialize colony\n",
    "colony_1 = p.Population()"
   ]
  },
  {
   "cell_type": "code",
   "execution_count": null,
   "metadata": {},
   "outputs": [],
   "source": [
    "#set parameters\n",
    "p.Population.mortality_rate = 0.002\n",
    "p.Population.age_expectation = 70\n",
    "p.Population.num_interactions = 9\n",
    "p.Population.max_children = 8\n",
    "p.Population.min_rep_age = 15\n",
    "p.Population.max_reg_age = 45"
   ]
  },
  {
   "cell_type": "code",
   "execution_count": 3,
   "metadata": {
    "scrolled": false
   },
   "outputs": [
    {
     "name": "stderr",
     "output_type": "stream",
     "text": [
      "  6%|▌         | 18/300 [00:00<00:01, 169.01it/s]"
     ]
    },
    {
     "name": "stdout",
     "output_type": "stream",
     "text": [
      "Population created\n",
      "Died by Accident\n",
      "Died by Accident\n"
     ]
    },
    {
     "name": "stderr",
     "output_type": "stream",
     "text": [
      " 27%|██▋       | 81/300 [00:01<00:06, 36.26it/s] "
     ]
    },
    {
     "name": "stdout",
     "output_type": "stream",
     "text": [
      "Died by Accident\n",
      "Died by Accident\n"
     ]
    },
    {
     "name": "stderr",
     "output_type": "stream",
     "text": [
      "\r",
      " 29%|██▊       | 86/300 [00:01<00:08, 25.32it/s]"
     ]
    },
    {
     "name": "stdout",
     "output_type": "stream",
     "text": [
      "Died by Accident\n"
     ]
    },
    {
     "name": "stderr",
     "output_type": "stream",
     "text": [
      " 31%|███       | 93/300 [00:02<00:11, 18.38it/s]"
     ]
    },
    {
     "name": "stdout",
     "output_type": "stream",
     "text": [
      "Died by Accident\n",
      "Died by Accident\n"
     ]
    },
    {
     "name": "stderr",
     "output_type": "stream",
     "text": [
      "\r",
      " 32%|███▏      | 96/300 [00:02<00:13, 15.41it/s]"
     ]
    },
    {
     "name": "stdout",
     "output_type": "stream",
     "text": [
      "Died by Accident\n",
      "Died by Accident\n",
      "Died by Accident\n"
     ]
    },
    {
     "name": "stderr",
     "output_type": "stream",
     "text": [
      "\r",
      " 33%|███▎      | 99/300 [00:02<00:15, 12.57it/s]"
     ]
    },
    {
     "name": "stdout",
     "output_type": "stream",
     "text": [
      "Died by Accident\n"
     ]
    },
    {
     "name": "stderr",
     "output_type": "stream",
     "text": [
      "\r",
      " 34%|███▎      | 101/300 [00:03<00:18, 10.63it/s]"
     ]
    },
    {
     "name": "stdout",
     "output_type": "stream",
     "text": [
      "Died by Accident\n"
     ]
    },
    {
     "name": "stderr",
     "output_type": "stream",
     "text": [
      "\r",
      " 34%|███▍      | 103/300 [00:03<00:21,  9.00it/s]"
     ]
    },
    {
     "name": "stdout",
     "output_type": "stream",
     "text": [
      "Died by Accident\n"
     ]
    },
    {
     "name": "stderr",
     "output_type": "stream",
     "text": [
      "\r",
      " 35%|███▌      | 105/300 [00:03<00:23,  8.17it/s]"
     ]
    },
    {
     "name": "stdout",
     "output_type": "stream",
     "text": [
      "Died by Accident\n"
     ]
    },
    {
     "name": "stderr",
     "output_type": "stream",
     "text": [
      " 36%|███▋      | 109/300 [00:04<00:31,  6.01it/s]"
     ]
    },
    {
     "name": "stdout",
     "output_type": "stream",
     "text": [
      "Died by Accident\n"
     ]
    },
    {
     "name": "stderr",
     "output_type": "stream",
     "text": [
      "\r",
      " 37%|███▋      | 110/300 [00:04<00:33,  5.62it/s]"
     ]
    },
    {
     "name": "stdout",
     "output_type": "stream",
     "text": [
      "Died by Accident\n"
     ]
    },
    {
     "name": "stderr",
     "output_type": "stream",
     "text": [
      "\r",
      " 37%|███▋      | 111/300 [00:04<00:35,  5.36it/s]"
     ]
    },
    {
     "name": "stdout",
     "output_type": "stream",
     "text": [
      "Died by Accident\n",
      "Died by Accident\n"
     ]
    },
    {
     "name": "stderr",
     "output_type": "stream",
     "text": [
      "\r",
      " 37%|███▋      | 112/300 [00:04<00:37,  5.05it/s]"
     ]
    },
    {
     "name": "stdout",
     "output_type": "stream",
     "text": [
      "Died by Accident\n"
     ]
    },
    {
     "name": "stderr",
     "output_type": "stream",
     "text": [
      "\r",
      " 38%|███▊      | 113/300 [00:05<00:39,  4.75it/s]"
     ]
    },
    {
     "name": "stdout",
     "output_type": "stream",
     "text": [
      "Died by Accident\n"
     ]
    },
    {
     "name": "stderr",
     "output_type": "stream",
     "text": [
      " 38%|███▊      | 115/300 [00:05<00:43,  4.22it/s]"
     ]
    },
    {
     "name": "stdout",
     "output_type": "stream",
     "text": [
      "Died by Accident\n",
      "Died by Accident\n",
      "Died by Accident\n"
     ]
    },
    {
     "name": "stderr",
     "output_type": "stream",
     "text": [
      "\r",
      " 39%|███▊      | 116/300 [00:06<00:45,  4.00it/s]"
     ]
    },
    {
     "name": "stdout",
     "output_type": "stream",
     "text": [
      "Died by Accident\n",
      "Died by Accident\n",
      "Died by Accident\n"
     ]
    },
    {
     "name": "stderr",
     "output_type": "stream",
     "text": [
      "\r",
      " 39%|███▉      | 117/300 [00:06<00:48,  3.80it/s]"
     ]
    },
    {
     "name": "stdout",
     "output_type": "stream",
     "text": [
      "Died by Accident\n"
     ]
    },
    {
     "name": "stderr",
     "output_type": "stream",
     "text": [
      " 40%|███▉      | 119/300 [00:06<00:52,  3.42it/s]"
     ]
    },
    {
     "name": "stdout",
     "output_type": "stream",
     "text": [
      "Died by Accident\n",
      "Died by Accident\n"
     ]
    },
    {
     "name": "stderr",
     "output_type": "stream",
     "text": [
      "\r",
      " 40%|████      | 120/300 [00:07<00:55,  3.24it/s]"
     ]
    },
    {
     "name": "stdout",
     "output_type": "stream",
     "text": [
      "Died by Accident\n"
     ]
    },
    {
     "name": "stderr",
     "output_type": "stream",
     "text": [
      "\r",
      " 40%|████      | 121/300 [00:07<00:58,  3.08it/s]"
     ]
    },
    {
     "name": "stdout",
     "output_type": "stream",
     "text": [
      "Died by Accident\n"
     ]
    },
    {
     "name": "stderr",
     "output_type": "stream",
     "text": [
      "\r",
      " 41%|████      | 122/300 [00:08<01:01,  2.91it/s]"
     ]
    },
    {
     "name": "stdout",
     "output_type": "stream",
     "text": [
      "Died by Accident\n"
     ]
    },
    {
     "name": "stderr",
     "output_type": "stream",
     "text": [
      "\r",
      " 41%|████      | 123/300 [00:08<01:04,  2.75it/s]"
     ]
    },
    {
     "name": "stdout",
     "output_type": "stream",
     "text": [
      "Died by Accident\n"
     ]
    },
    {
     "name": "stderr",
     "output_type": "stream",
     "text": [
      " 42%|████▏     | 125/300 [00:09<01:11,  2.46it/s]"
     ]
    },
    {
     "name": "stdout",
     "output_type": "stream",
     "text": [
      "Died by Accident\n"
     ]
    },
    {
     "name": "stderr",
     "output_type": "stream",
     "text": [
      "\r",
      " 42%|████▏     | 126/300 [00:09<01:14,  2.35it/s]"
     ]
    },
    {
     "name": "stdout",
     "output_type": "stream",
     "text": [
      "Died by Accident\n"
     ]
    },
    {
     "name": "stderr",
     "output_type": "stream",
     "text": [
      " 43%|████▎     | 128/300 [00:10<01:21,  2.12it/s]"
     ]
    },
    {
     "name": "stdout",
     "output_type": "stream",
     "text": [
      "Died by Accident\n",
      "Died by Accident\n",
      "Died by Accident\n"
     ]
    },
    {
     "name": "stderr",
     "output_type": "stream",
     "text": [
      "\r",
      " 43%|████▎     | 129/300 [00:11<01:25,  2.00it/s]"
     ]
    },
    {
     "name": "stdout",
     "output_type": "stream",
     "text": [
      "Died by Accident\n"
     ]
    },
    {
     "name": "stderr",
     "output_type": "stream",
     "text": [
      "\r",
      " 43%|████▎     | 130/300 [00:12<01:29,  1.91it/s]"
     ]
    },
    {
     "name": "stdout",
     "output_type": "stream",
     "text": [
      "Died by Accident\n"
     ]
    },
    {
     "name": "stderr",
     "output_type": "stream",
     "text": [
      "\r",
      " 44%|████▎     | 131/300 [00:12<01:33,  1.81it/s]"
     ]
    },
    {
     "name": "stdout",
     "output_type": "stream",
     "text": [
      "Died by Accident\n",
      "Died by Accident\n",
      "Died by Accident\n"
     ]
    },
    {
     "name": "stderr",
     "output_type": "stream",
     "text": [
      "\r",
      " 44%|████▍     | 132/300 [00:13<01:37,  1.72it/s]"
     ]
    },
    {
     "name": "stdout",
     "output_type": "stream",
     "text": [
      "Died by Accident\n"
     ]
    },
    {
     "name": "stderr",
     "output_type": "stream",
     "text": [
      "\r",
      " 44%|████▍     | 133/300 [00:13<01:41,  1.64it/s]"
     ]
    },
    {
     "name": "stdout",
     "output_type": "stream",
     "text": [
      "Died by Accident\n",
      "Died by Accident\n"
     ]
    },
    {
     "name": "stderr",
     "output_type": "stream",
     "text": [
      "\r",
      " 45%|████▍     | 134/300 [00:14<01:46,  1.56it/s]"
     ]
    },
    {
     "name": "stdout",
     "output_type": "stream",
     "text": [
      "Died by Accident\n"
     ]
    },
    {
     "name": "stderr",
     "output_type": "stream",
     "text": [
      "\r",
      " 45%|████▌     | 135/300 [00:15<01:50,  1.49it/s]"
     ]
    },
    {
     "name": "stdout",
     "output_type": "stream",
     "text": [
      "Died by Accident\n",
      "Died by Accident\n"
     ]
    },
    {
     "name": "stderr",
     "output_type": "stream",
     "text": [
      "\r",
      " 45%|████▌     | 136/300 [00:16<01:56,  1.41it/s]"
     ]
    },
    {
     "name": "stdout",
     "output_type": "stream",
     "text": [
      "Died by Accident\n"
     ]
    },
    {
     "name": "stderr",
     "output_type": "stream",
     "text": [
      "\r",
      " 46%|████▌     | 137/300 [00:17<02:05,  1.30it/s]"
     ]
    },
    {
     "name": "stdout",
     "output_type": "stream",
     "text": [
      "Died by Accident\n"
     ]
    },
    {
     "name": "stderr",
     "output_type": "stream",
     "text": [
      "\r",
      " 46%|████▌     | 138/300 [00:18<02:18,  1.17it/s]"
     ]
    },
    {
     "name": "stdout",
     "output_type": "stream",
     "text": [
      "Died by Accident\n"
     ]
    },
    {
     "name": "stderr",
     "output_type": "stream",
     "text": [
      "\r",
      " 46%|████▋     | 139/300 [00:19<02:26,  1.10it/s]"
     ]
    },
    {
     "name": "stdout",
     "output_type": "stream",
     "text": [
      "Died by Accident\n"
     ]
    },
    {
     "name": "stderr",
     "output_type": "stream",
     "text": [
      "\r",
      " 47%|████▋     | 140/300 [00:20<02:33,  1.05it/s]"
     ]
    },
    {
     "name": "stdout",
     "output_type": "stream",
     "text": [
      "Died by Accident\n",
      "Died by Accident\n"
     ]
    },
    {
     "name": "stderr",
     "output_type": "stream",
     "text": [
      "\r",
      " 47%|████▋     | 141/300 [00:21<02:40,  1.01s/it]"
     ]
    },
    {
     "name": "stdout",
     "output_type": "stream",
     "text": [
      "Died by Accident\n"
     ]
    },
    {
     "name": "stderr",
     "output_type": "stream",
     "text": [
      " 48%|████▊     | 144/300 [00:25<03:03,  1.18s/it]"
     ]
    },
    {
     "name": "stdout",
     "output_type": "stream",
     "text": [
      "Died by Accident\n",
      "Died by Accident\n"
     ]
    },
    {
     "name": "stderr",
     "output_type": "stream",
     "text": [
      " 49%|████▊     | 146/300 [00:28<03:22,  1.31s/it]"
     ]
    },
    {
     "name": "stdout",
     "output_type": "stream",
     "text": [
      "Died by Accident\n",
      "Died by Accident\n"
     ]
    },
    {
     "name": "stderr",
     "output_type": "stream",
     "text": [
      " 49%|████▉     | 148/300 [00:31<03:54,  1.54s/it]"
     ]
    },
    {
     "name": "stdout",
     "output_type": "stream",
     "text": [
      "Died by Accident\n"
     ]
    },
    {
     "name": "stderr",
     "output_type": "stream",
     "text": [
      "\r",
      " 50%|████▉     | 149/300 [00:33<04:08,  1.65s/it]"
     ]
    },
    {
     "name": "stdout",
     "output_type": "stream",
     "text": [
      "Died by Accident\n",
      "Died by Accident\n",
      "Died by Accident\n"
     ]
    },
    {
     "name": "stderr",
     "output_type": "stream",
     "text": [
      "\r",
      " 50%|█████     | 150/300 [00:35<04:18,  1.72s/it]"
     ]
    },
    {
     "name": "stdout",
     "output_type": "stream",
     "text": [
      "Died by Accident\n",
      "Died by Accident\n",
      "Died by Accident\n"
     ]
    },
    {
     "name": "stderr",
     "output_type": "stream",
     "text": [
      "\r",
      " 50%|█████     | 151/300 [00:37<04:29,  1.81s/it]"
     ]
    },
    {
     "name": "stdout",
     "output_type": "stream",
     "text": [
      "Died by Accident\n",
      "Died by Accident\n",
      "Died by Accident\n",
      "Died by Accident\n"
     ]
    },
    {
     "name": "stderr",
     "output_type": "stream",
     "text": [
      "\r",
      " 51%|█████     | 152/300 [00:39<04:43,  1.91s/it]"
     ]
    },
    {
     "name": "stdout",
     "output_type": "stream",
     "text": [
      "Died by Accident\n",
      "Died by Accident\n",
      "Died by Accident\n"
     ]
    },
    {
     "name": "stderr",
     "output_type": "stream",
     "text": [
      "\r",
      " 51%|█████     | 153/300 [00:41<04:59,  2.04s/it]"
     ]
    },
    {
     "name": "stdout",
     "output_type": "stream",
     "text": [
      "Died by Accident\n"
     ]
    },
    {
     "name": "stderr",
     "output_type": "stream",
     "text": [
      "\r",
      " 51%|█████▏    | 154/300 [00:44<05:12,  2.14s/it]"
     ]
    },
    {
     "name": "stdout",
     "output_type": "stream",
     "text": [
      "Died by Accident\n",
      "Died by Accident\n"
     ]
    },
    {
     "name": "stderr",
     "output_type": "stream",
     "text": [
      "\r",
      " 52%|█████▏    | 155/300 [00:46<05:31,  2.28s/it]"
     ]
    },
    {
     "name": "stdout",
     "output_type": "stream",
     "text": [
      "Died by Accident\n",
      "Died by Accident\n",
      "Died by Accident\n",
      "Died by Accident\n"
     ]
    },
    {
     "name": "stderr",
     "output_type": "stream",
     "text": [
      " 52%|█████▏    | 157/300 [00:52<06:14,  2.62s/it]"
     ]
    },
    {
     "name": "stdout",
     "output_type": "stream",
     "text": [
      "Died by Accident\n",
      "Died by Accident\n"
     ]
    },
    {
     "name": "stderr",
     "output_type": "stream",
     "text": [
      "\r",
      " 53%|█████▎    | 158/300 [00:55<06:32,  2.76s/it]"
     ]
    },
    {
     "name": "stdout",
     "output_type": "stream",
     "text": [
      "Died by Accident\n",
      "Died by Accident\n",
      "Died by Accident\n"
     ]
    },
    {
     "name": "stderr",
     "output_type": "stream",
     "text": [
      "\r",
      " 53%|█████▎    | 159/300 [00:59<06:52,  2.92s/it]"
     ]
    },
    {
     "name": "stdout",
     "output_type": "stream",
     "text": [
      "Died by Accident\n",
      "Died by Accident\n",
      "Died by Accident\n",
      "Died by Accident\n",
      "Died by Accident\n",
      "Died by Accident\n"
     ]
    },
    {
     "name": "stderr",
     "output_type": "stream",
     "text": [
      "\r",
      " 53%|█████▎    | 160/300 [01:02<07:15,  3.11s/it]"
     ]
    },
    {
     "name": "stdout",
     "output_type": "stream",
     "text": [
      "Died by Accident\n",
      "Died by Accident\n",
      "Died by Accident\n",
      "Died by Accident\n",
      "Died by Accident\n",
      "Died by Accident\n"
     ]
    },
    {
     "name": "stderr",
     "output_type": "stream",
     "text": [
      "\r",
      " 54%|█████▎    | 161/300 [01:06<07:47,  3.36s/it]"
     ]
    },
    {
     "name": "stdout",
     "output_type": "stream",
     "text": [
      "Died by Accident\n",
      "Died by Accident\n",
      "Died by Accident\n",
      "Died by Accident\n"
     ]
    },
    {
     "name": "stderr",
     "output_type": "stream",
     "text": [
      "\r",
      " 54%|█████▍    | 162/300 [01:10<08:14,  3.58s/it]"
     ]
    },
    {
     "name": "stdout",
     "output_type": "stream",
     "text": [
      "Died by Accident\n"
     ]
    },
    {
     "name": "stderr",
     "output_type": "stream",
     "text": [
      "\r",
      " 54%|█████▍    | 163/300 [01:14<08:33,  3.75s/it]"
     ]
    },
    {
     "name": "stdout",
     "output_type": "stream",
     "text": [
      "Died by Accident\n",
      "Died by Accident\n"
     ]
    },
    {
     "name": "stderr",
     "output_type": "stream",
     "text": [
      "\r",
      " 55%|█████▍    | 164/300 [01:19<08:58,  3.96s/it]"
     ]
    },
    {
     "name": "stdout",
     "output_type": "stream",
     "text": [
      "Died by Accident\n",
      "Died by Accident\n"
     ]
    },
    {
     "name": "stderr",
     "output_type": "stream",
     "text": [
      "\r",
      " 55%|█████▌    | 165/300 [01:24<09:57,  4.43s/it]"
     ]
    },
    {
     "name": "stdout",
     "output_type": "stream",
     "text": [
      "Died by Accident\n",
      "Died by Accident\n"
     ]
    },
    {
     "name": "stderr",
     "output_type": "stream",
     "text": [
      "\r",
      " 55%|█████▌    | 166/300 [01:30<10:43,  4.80s/it]"
     ]
    },
    {
     "name": "stdout",
     "output_type": "stream",
     "text": [
      "Died by Accident\n",
      "Died by Accident\n",
      "Died by Accident\n",
      "Died by Accident\n"
     ]
    },
    {
     "name": "stderr",
     "output_type": "stream",
     "text": [
      "\r",
      " 56%|█████▌    | 167/300 [01:36<11:05,  5.01s/it]"
     ]
    },
    {
     "name": "stdout",
     "output_type": "stream",
     "text": [
      "Died by Accident\n",
      "Died by Accident\n",
      "Died by Accident\n",
      "Died by Accident\n"
     ]
    },
    {
     "name": "stderr",
     "output_type": "stream",
     "text": [
      "\r",
      " 56%|█████▌    | 168/300 [01:41<11:39,  5.30s/it]"
     ]
    },
    {
     "name": "stdout",
     "output_type": "stream",
     "text": [
      "Died by Accident\n",
      "Died by Accident\n",
      "Died by Accident\n"
     ]
    },
    {
     "name": "stderr",
     "output_type": "stream",
     "text": [
      "\r",
      " 56%|█████▋    | 169/300 [01:48<12:02,  5.52s/it]"
     ]
    },
    {
     "name": "stdout",
     "output_type": "stream",
     "text": [
      "Died by Accident\n",
      "Died by Accident\n"
     ]
    },
    {
     "name": "stderr",
     "output_type": "stream",
     "text": [
      "\r",
      " 57%|█████▋    | 170/300 [01:54<12:31,  5.78s/it]"
     ]
    },
    {
     "name": "stdout",
     "output_type": "stream",
     "text": [
      "Died by Accident\n"
     ]
    },
    {
     "name": "stderr",
     "output_type": "stream",
     "text": [
      "\r",
      " 57%|█████▋    | 171/300 [02:01<13:11,  6.14s/it]"
     ]
    },
    {
     "name": "stdout",
     "output_type": "stream",
     "text": [
      "Died by Accident\n",
      "Died by Accident\n"
     ]
    },
    {
     "name": "stderr",
     "output_type": "stream",
     "text": [
      "\r",
      " 57%|█████▋    | 172/300 [02:08<13:56,  6.54s/it]"
     ]
    },
    {
     "name": "stdout",
     "output_type": "stream",
     "text": [
      "Died by Accident\n",
      "Died by Accident\n",
      "Died by Accident\n",
      "Died by Accident\n",
      "Died by Accident\n"
     ]
    },
    {
     "name": "stderr",
     "output_type": "stream",
     "text": [
      "\r",
      " 58%|█████▊    | 173/300 [02:16<14:39,  6.93s/it]"
     ]
    },
    {
     "name": "stdout",
     "output_type": "stream",
     "text": [
      "Died by Accident\n",
      "Died by Accident\n",
      "Died by Accident\n",
      "Died by Accident\n",
      "Died by Accident\n",
      "Died by Accident\n",
      "Died by Accident\n",
      "Died by Accident\n"
     ]
    },
    {
     "name": "stderr",
     "output_type": "stream",
     "text": [
      "\r",
      " 58%|█████▊    | 174/300 [02:25<15:26,  7.35s/it]"
     ]
    },
    {
     "name": "stdout",
     "output_type": "stream",
     "text": [
      "Died by Accident\n",
      "Died by Accident\n"
     ]
    },
    {
     "name": "stderr",
     "output_type": "stream",
     "text": [
      "\r",
      " 58%|█████▊    | 175/300 [02:33<16:16,  7.81s/it]"
     ]
    },
    {
     "name": "stdout",
     "output_type": "stream",
     "text": [
      "Died by Accident\n",
      "Died by Accident\n"
     ]
    },
    {
     "name": "stderr",
     "output_type": "stream",
     "text": [
      "\r",
      " 59%|█████▊    | 176/300 [02:43<17:07,  8.29s/it]"
     ]
    },
    {
     "name": "stdout",
     "output_type": "stream",
     "text": [
      "Died by Accident\n",
      "Died by Accident\n",
      "Died by Accident\n"
     ]
    },
    {
     "name": "stderr",
     "output_type": "stream",
     "text": [
      "\r",
      " 59%|█████▉    | 177/300 [02:54<18:55,  9.23s/it]"
     ]
    },
    {
     "name": "stdout",
     "output_type": "stream",
     "text": [
      "Died by Accident\n",
      "Died by Accident\n",
      "Died by Accident\n",
      "Died by Accident\n",
      "Died by Accident\n",
      "Died by Accident\n"
     ]
    },
    {
     "name": "stderr",
     "output_type": "stream",
     "text": [
      "\r",
      " 59%|█████▉    | 178/300 [03:05<19:53,  9.78s/it]"
     ]
    },
    {
     "name": "stdout",
     "output_type": "stream",
     "text": [
      "Died by Accident\n",
      "Died by Accident\n",
      "Died by Accident\n"
     ]
    },
    {
     "name": "stderr",
     "output_type": "stream",
     "text": [
      "\r",
      " 60%|█████▉    | 179/300 [03:18<21:20, 10.58s/it]"
     ]
    },
    {
     "name": "stdout",
     "output_type": "stream",
     "text": [
      "Died by Accident\n",
      "Died by Accident\n"
     ]
    },
    {
     "name": "stderr",
     "output_type": "stream",
     "text": [
      "\r",
      " 60%|██████    | 180/300 [03:30<22:20, 11.17s/it]"
     ]
    },
    {
     "name": "stdout",
     "output_type": "stream",
     "text": [
      "Died by Accident\n",
      "Died by Accident\n",
      "Died by Accident\n",
      "Died by Accident\n",
      "Died by Accident\n",
      "Died by Accident\n"
     ]
    },
    {
     "name": "stderr",
     "output_type": "stream",
     "text": [
      "\r",
      " 60%|██████    | 181/300 [03:43<23:15, 11.73s/it]"
     ]
    },
    {
     "name": "stdout",
     "output_type": "stream",
     "text": [
      "Died by Accident\n",
      "Died by Accident\n",
      "Died by Accident\n",
      "Died by Accident\n",
      "Died by Accident\n",
      "Died by Accident\n",
      "Died by Accident\n",
      "Died by Accident\n",
      "Died by Accident\n",
      "Died by Accident\n"
     ]
    },
    {
     "name": "stderr",
     "output_type": "stream",
     "text": [
      "\r",
      " 61%|██████    | 182/300 [03:57<24:20, 12.38s/it]"
     ]
    },
    {
     "name": "stdout",
     "output_type": "stream",
     "text": [
      "Died by Accident\n",
      "Died by Accident\n",
      "Died by Accident\n",
      "Died by Accident\n",
      "Died by Accident\n"
     ]
    },
    {
     "name": "stderr",
     "output_type": "stream",
     "text": [
      "\r",
      " 61%|██████    | 183/300 [04:12<25:21, 13.01s/it]"
     ]
    },
    {
     "name": "stdout",
     "output_type": "stream",
     "text": [
      "Died by Accident\n",
      "Died by Accident\n",
      "Died by Accident\n",
      "Died by Accident\n",
      "Died by Accident\n",
      "Died by Accident\n",
      "Died by Accident\n",
      "Died by Accident\n",
      "Died by Accident\n",
      "Died by Accident\n"
     ]
    },
    {
     "name": "stderr",
     "output_type": "stream",
     "text": [
      "\r",
      " 61%|██████▏   | 184/300 [04:27<26:32, 13.73s/it]"
     ]
    },
    {
     "name": "stdout",
     "output_type": "stream",
     "text": [
      "Died by Accident\n",
      "Died by Accident\n",
      "Died by Accident\n",
      "Died by Accident\n",
      "Died by Accident\n",
      "Died by Accident\n"
     ]
    },
    {
     "name": "stderr",
     "output_type": "stream",
     "text": [
      "\r",
      " 62%|██████▏   | 185/300 [04:44<28:04, 14.64s/it]"
     ]
    },
    {
     "name": "stdout",
     "output_type": "stream",
     "text": [
      "Died by Accident\n",
      "Died by Accident\n",
      "Died by Accident\n",
      "Died by Accident\n",
      "Died by Accident\n",
      "Died by Accident\n",
      "Died by Accident\n",
      "Died by Accident\n"
     ]
    },
    {
     "name": "stderr",
     "output_type": "stream",
     "text": [
      "\r",
      " 62%|██████▏   | 186/300 [05:02<29:33, 15.55s/it]"
     ]
    },
    {
     "name": "stdout",
     "output_type": "stream",
     "text": [
      "Died by Accident\n",
      "Died by Accident\n",
      "Died by Accident\n",
      "Died by Accident\n",
      "Died by Accident\n",
      "Died by Accident\n",
      "Died by Accident\n",
      "Died by Accident\n",
      "Died by Accident\n",
      "Died by Accident\n"
     ]
    },
    {
     "name": "stderr",
     "output_type": "stream",
     "text": [
      "\r",
      " 62%|██████▏   | 187/300 [05:21<31:25, 16.69s/it]"
     ]
    },
    {
     "name": "stdout",
     "output_type": "stream",
     "text": [
      "Died by Accident\n",
      "Died by Accident\n",
      "Died by Accident\n",
      "Died by Accident\n",
      "Died by Accident\n",
      "Died by Accident\n",
      "Died by Accident\n",
      "Died by Accident\n",
      "Died by Accident\n",
      "Died by Accident\n"
     ]
    },
    {
     "name": "stderr",
     "output_type": "stream",
     "text": [
      "\r",
      " 63%|██████▎   | 188/300 [05:41<32:59, 17.67s/it]"
     ]
    },
    {
     "name": "stdout",
     "output_type": "stream",
     "text": [
      "Died by Accident\n",
      "Died by Accident\n",
      "Died by Accident\n"
     ]
    },
    {
     "name": "stderr",
     "output_type": "stream",
     "text": [
      "\r",
      " 63%|██████▎   | 189/300 [06:02<34:34, 18.69s/it]"
     ]
    },
    {
     "name": "stdout",
     "output_type": "stream",
     "text": [
      "Died by Accident\n",
      "Died by Accident\n",
      "Died by Accident\n",
      "Died by Accident\n"
     ]
    },
    {
     "name": "stderr",
     "output_type": "stream",
     "text": [
      "\r",
      " 63%|██████▎   | 190/300 [06:25<36:28, 19.90s/it]"
     ]
    },
    {
     "name": "stdout",
     "output_type": "stream",
     "text": [
      "Died by Accident\n",
      "Died by Accident\n",
      "Died by Accident\n",
      "Died by Accident\n",
      "Died by Accident\n",
      "Died by Accident\n",
      "Died by Accident\n",
      "Died by Accident\n"
     ]
    },
    {
     "name": "stderr",
     "output_type": "stream",
     "text": [
      "\r",
      " 64%|██████▎   | 191/300 [06:49<38:21, 21.11s/it]"
     ]
    },
    {
     "name": "stdout",
     "output_type": "stream",
     "text": [
      "Died by Accident\n",
      "Died by Accident\n",
      "Died by Accident\n",
      "Died by Accident\n",
      "Died by Accident\n",
      "Died by Accident\n",
      "Died by Accident\n",
      "Died by Accident\n"
     ]
    },
    {
     "name": "stderr",
     "output_type": "stream",
     "text": [
      "\r",
      " 64%|██████▍   | 192/300 [07:14<40:15, 22.37s/it]"
     ]
    },
    {
     "name": "stdout",
     "output_type": "stream",
     "text": [
      "Died by Accident\n",
      "Died by Accident\n",
      "Died by Accident\n",
      "Died by Accident\n",
      "Died by Accident\n",
      "Died by Accident\n",
      "Died by Accident\n",
      "Died by Accident\n",
      "Died by Accident\n",
      "Died by Accident\n"
     ]
    },
    {
     "name": "stderr",
     "output_type": "stream",
     "text": [
      "\r",
      " 64%|██████▍   | 193/300 [07:41<42:17, 23.71s/it]"
     ]
    },
    {
     "name": "stdout",
     "output_type": "stream",
     "text": [
      "Died by Accident\n",
      "Died by Accident\n",
      "Died by Accident\n",
      "Died by Accident\n",
      "Died by Accident\n",
      "Died by Accident\n",
      "Died by Accident\n",
      "Died by Accident\n",
      "Died by Accident\n"
     ]
    },
    {
     "name": "stderr",
     "output_type": "stream",
     "text": [
      "\r",
      " 65%|██████▍   | 194/300 [08:10<44:39, 25.28s/it]"
     ]
    },
    {
     "name": "stdout",
     "output_type": "stream",
     "text": [
      "Died by Accident\n",
      "Died by Accident\n",
      "Died by Accident\n",
      "Died by Accident\n",
      "Died by Accident\n",
      "Died by Accident\n",
      "Died by Accident\n"
     ]
    },
    {
     "name": "stderr",
     "output_type": "stream",
     "text": [
      "\r",
      " 65%|██████▌   | 195/300 [08:42<47:53, 27.36s/it]"
     ]
    },
    {
     "name": "stdout",
     "output_type": "stream",
     "text": [
      "Died by Accident\n",
      "Died by Accident\n",
      "Died by Accident\n",
      "Died by Accident\n",
      "Died by Accident\n",
      "Died by Accident\n",
      "Died by Accident\n",
      "Died by Accident\n"
     ]
    },
    {
     "name": "stderr",
     "output_type": "stream",
     "text": [
      "\r",
      " 65%|██████▌   | 196/300 [09:15<50:29, 29.13s/it]"
     ]
    },
    {
     "name": "stdout",
     "output_type": "stream",
     "text": [
      "Died by Accident\n",
      "Died by Accident\n",
      "Died by Accident\n",
      "Died by Accident\n",
      "Died by Accident\n",
      "Died by Accident\n",
      "Died by Accident\n",
      "Died by Accident\n",
      "Died by Accident\n",
      "Died by Accident\n",
      "Died by Accident\n",
      "Died by Accident\n"
     ]
    },
    {
     "name": "stderr",
     "output_type": "stream",
     "text": [
      "\r",
      " 66%|██████▌   | 197/300 [09:51<53:42, 31.29s/it]"
     ]
    },
    {
     "name": "stdout",
     "output_type": "stream",
     "text": [
      "Died by Accident\n",
      "Died by Accident\n",
      "Died by Accident\n",
      "Died by Accident\n",
      "Died by Accident\n",
      "Died by Accident\n",
      "Died by Accident\n",
      "Died by Accident\n",
      "Died by Accident\n",
      "Died by Accident\n",
      "Died by Accident\n"
     ]
    },
    {
     "name": "stderr",
     "output_type": "stream",
     "text": [
      "\r",
      " 66%|██████▌   | 198/300 [10:29<56:26, 33.20s/it]"
     ]
    },
    {
     "name": "stdout",
     "output_type": "stream",
     "text": [
      "Died by Accident\n",
      "Died by Accident\n",
      "Died by Accident\n",
      "Died by Accident\n",
      "Died by Accident\n",
      "Died by Accident\n",
      "Died by Accident\n",
      "Died by Accident\n"
     ]
    },
    {
     "name": "stderr",
     "output_type": "stream",
     "text": [
      "\r",
      " 66%|██████▋   | 199/300 [11:08<58:32, 34.78s/it]"
     ]
    },
    {
     "name": "stdout",
     "output_type": "stream",
     "text": [
      "Died by Accident\n",
      "Died by Accident\n",
      "Died by Accident\n",
      "Died by Accident\n",
      "Died by Accident\n",
      "Died by Accident\n",
      "Died by Accident\n",
      "Died by Accident\n",
      "Died by Accident\n",
      "Died by Accident\n"
     ]
    },
    {
     "name": "stderr",
     "output_type": "stream",
     "text": [
      "\r",
      " 67%|██████▋   | 200/300 [11:49<1:01:21, 36.82s/it]"
     ]
    },
    {
     "name": "stdout",
     "output_type": "stream",
     "text": [
      "Died by Accident\n",
      "Died by Accident\n",
      "Died by Accident\n",
      "Died by Accident\n",
      "Died by Accident\n",
      "Died by Accident\n",
      "Died by Accident\n",
      "Died by Accident\n",
      "Died by Accident\n",
      "Died by Accident\n",
      "Died by Accident\n",
      "Died by Accident\n",
      "Died by Accident\n"
     ]
    },
    {
     "name": "stderr",
     "output_type": "stream",
     "text": [
      "\r",
      " 67%|██████▋   | 201/300 [12:34<1:04:33, 39.13s/it]"
     ]
    },
    {
     "name": "stdout",
     "output_type": "stream",
     "text": [
      "Died by Accident\n",
      "Died by Accident\n",
      "Died by Accident\n",
      "Died by Accident\n",
      "Died by Accident\n",
      "Died by Accident\n",
      "Died by Accident\n",
      "Died by Accident\n",
      "Died by Accident\n",
      "Died by Accident\n",
      "Died by Accident\n",
      "Died by Accident\n",
      "Died by Accident\n",
      "Died by Accident\n",
      "Died by Accident\n"
     ]
    },
    {
     "name": "stderr",
     "output_type": "stream",
     "text": [
      "\r",
      " 67%|██████▋   | 202/300 [13:20<1:07:36, 41.39s/it]"
     ]
    },
    {
     "name": "stdout",
     "output_type": "stream",
     "text": [
      "Died by Accident\n",
      "Died by Accident\n",
      "Died by Accident\n",
      "Died by Accident\n",
      "Died by Accident\n",
      "Died by Accident\n",
      "Died by Accident\n",
      "Died by Accident\n"
     ]
    },
    {
     "name": "stderr",
     "output_type": "stream",
     "text": [
      "\r",
      " 68%|██████▊   | 203/300 [14:11<1:11:11, 44.03s/it]"
     ]
    },
    {
     "name": "stdout",
     "output_type": "stream",
     "text": [
      "Died by Accident\n",
      "Died by Accident\n",
      "Died by Accident\n",
      "Died by Accident\n",
      "Died by Accident\n",
      "Died by Accident\n",
      "Died by Accident\n",
      "Died by Accident\n",
      "Died by Accident\n",
      "Died by Accident\n",
      "Died by Accident\n",
      "Died by Accident\n",
      "Died by Accident\n",
      "Died by Accident\n",
      "Died by Accident\n",
      "Died by Accident\n",
      "Died by Accident\n",
      "Died by Accident\n",
      "Died by Accident\n"
     ]
    },
    {
     "name": "stderr",
     "output_type": "stream",
     "text": [
      "\r",
      " 68%|██████▊   | 204/300 [15:03<1:14:41, 46.68s/it]"
     ]
    },
    {
     "name": "stdout",
     "output_type": "stream",
     "text": [
      "Died by Accident\n",
      "Died by Accident\n",
      "Died by Accident\n",
      "Died by Accident\n",
      "Died by Accident\n",
      "Died by Accident\n",
      "Died by Accident\n",
      "Died by Accident\n",
      "Died by Accident\n",
      "Died by Accident\n",
      "Died by Accident\n",
      "Died by Accident\n",
      "Died by Accident\n",
      "Died by Accident\n"
     ]
    },
    {
     "name": "stderr",
     "output_type": "stream",
     "text": [
      "\r",
      " 68%|██████▊   | 205/300 [16:00<1:18:23, 49.51s/it]"
     ]
    },
    {
     "name": "stdout",
     "output_type": "stream",
     "text": [
      "Died by Accident\n",
      "Died by Accident\n",
      "Died by Accident\n",
      "Died by Accident\n",
      "Died by Accident\n",
      "Died by Accident\n",
      "Died by Accident\n",
      "Died by Accident\n",
      "Died by Accident\n",
      "Died by Accident\n",
      "Died by Accident\n",
      "Died by Accident\n"
     ]
    },
    {
     "name": "stderr",
     "output_type": "stream",
     "text": [
      "\r",
      " 69%|██████▊   | 206/300 [17:00<1:22:30, 52.66s/it]"
     ]
    },
    {
     "name": "stdout",
     "output_type": "stream",
     "text": [
      "Died by Accident\n",
      "Died by Accident\n",
      "Died by Accident\n",
      "Died by Accident\n",
      "Died by Accident\n",
      "Died by Accident\n",
      "Died by Accident\n",
      "Died by Accident\n",
      "Died by Accident\n",
      "Died by Accident\n",
      "Died by Accident\n",
      "Died by Accident\n",
      "Died by Accident\n"
     ]
    },
    {
     "name": "stderr",
     "output_type": "stream",
     "text": [
      "\r",
      " 69%|██████▉   | 207/300 [18:03<1:26:36, 55.88s/it]"
     ]
    },
    {
     "name": "stdout",
     "output_type": "stream",
     "text": [
      "Died by Accident\n",
      "Died by Accident\n",
      "Died by Accident\n",
      "Died by Accident\n",
      "Died by Accident\n",
      "Died by Accident\n"
     ]
    },
    {
     "name": "stderr",
     "output_type": "stream",
     "text": [
      "\r",
      " 69%|██████▉   | 208/300 [19:12<1:31:38, 59.77s/it]"
     ]
    },
    {
     "name": "stdout",
     "output_type": "stream",
     "text": [
      "Died by Accident\n",
      "Died by Accident\n",
      "Died by Accident\n",
      "Died by Accident\n",
      "Died by Accident\n",
      "Died by Accident\n",
      "Died by Accident\n",
      "Died by Accident\n",
      "Died by Accident\n",
      "Died by Accident\n",
      "Died by Accident\n",
      "Died by Accident\n",
      "Died by Accident\n",
      "Died by Accident\n"
     ]
    },
    {
     "name": "stderr",
     "output_type": "stream",
     "text": [
      "\r",
      " 70%|██████▉   | 209/300 [20:24<1:36:23, 63.56s/it]"
     ]
    },
    {
     "name": "stdout",
     "output_type": "stream",
     "text": [
      "Died by Accident\n",
      "Died by Accident\n",
      "Died by Accident\n",
      "Died by Accident\n",
      "Died by Accident\n",
      "Died by Accident\n",
      "Died by Accident\n",
      "Died by Accident\n",
      "Died by Accident\n",
      "Died by Accident\n",
      "Died by Accident\n"
     ]
    },
    {
     "name": "stderr",
     "output_type": "stream",
     "text": [
      "\r",
      " 70%|███████   | 210/300 [21:41<1:41:28, 67.65s/it]"
     ]
    },
    {
     "name": "stdout",
     "output_type": "stream",
     "text": [
      "Died by Accident\n",
      "Died by Accident\n",
      "Died by Accident\n",
      "Died by Accident\n",
      "Died by Accident\n",
      "Died by Accident\n",
      "Died by Accident\n"
     ]
    },
    {
     "name": "stderr",
     "output_type": "stream",
     "text": [
      "\r",
      " 70%|███████   | 211/300 [23:02<1:46:01, 71.48s/it]"
     ]
    },
    {
     "name": "stdout",
     "output_type": "stream",
     "text": [
      "Died by Accident\n",
      "Died by Accident\n",
      "Died by Accident\n",
      "Died by Accident\n",
      "Died by Accident\n",
      "Died by Accident\n",
      "Died by Accident\n",
      "Died by Accident\n",
      "Died by Accident\n",
      "Died by Accident\n",
      "Died by Accident\n",
      "Died by Accident\n",
      "Died by Accident\n"
     ]
    },
    {
     "name": "stderr",
     "output_type": "stream",
     "text": [
      "\r",
      " 71%|███████   | 212/300 [24:29<1:51:36, 76.10s/it]"
     ]
    },
    {
     "name": "stdout",
     "output_type": "stream",
     "text": [
      "Died by Accident\n",
      "Died by Accident\n",
      "Died by Accident\n",
      "Died by Accident\n",
      "Died by Accident\n",
      "Died by Accident\n",
      "Died by Accident\n",
      "Died by Accident\n",
      "Died by Accident\n",
      "Died by Accident\n",
      "Died by Accident\n",
      "Died by Accident\n",
      "Died by Accident\n",
      "Died by Accident\n",
      "Died by Accident\n",
      "Died by Accident\n",
      "Died by Accident\n",
      "Died by Accident\n",
      "Died by Accident\n",
      "Died by Accident\n"
     ]
    },
    {
     "name": "stderr",
     "output_type": "stream",
     "text": [
      "\r",
      " 71%|███████   | 213/300 [26:00<1:57:07, 80.78s/it]"
     ]
    },
    {
     "name": "stdout",
     "output_type": "stream",
     "text": [
      "Died by Accident\n",
      "Died by Accident\n",
      "Died by Accident\n",
      "Died by Accident\n",
      "Died by Accident\n",
      "Died by Accident\n",
      "Died by Accident\n",
      "Died by Accident\n",
      "Died by Accident\n",
      "Died by Accident\n",
      "Died by Accident\n",
      "Died by Accident\n",
      "Died by Accident\n",
      "Died by Accident\n"
     ]
    },
    {
     "name": "stderr",
     "output_type": "stream",
     "text": [
      "\r",
      " 71%|███████▏  | 214/300 [27:37<2:02:46, 85.66s/it]"
     ]
    },
    {
     "name": "stdout",
     "output_type": "stream",
     "text": [
      "Died by Accident\n",
      "Died by Accident\n",
      "Died by Accident\n",
      "Died by Accident\n",
      "Died by Accident\n",
      "Died by Accident\n",
      "Died by Accident\n",
      "Died by Accident\n",
      "Died by Accident\n",
      "Died by Accident\n",
      "Died by Accident\n",
      "Died by Accident\n",
      "Died by Accident\n",
      "Died by Accident\n",
      "Died by Accident\n"
     ]
    },
    {
     "name": "stderr",
     "output_type": "stream",
     "text": [
      "\r",
      " 72%|███████▏  | 215/300 [29:22<2:09:20, 91.30s/it]"
     ]
    },
    {
     "name": "stdout",
     "output_type": "stream",
     "text": [
      "Died by Accident\n",
      "Died by Accident\n",
      "Died by Accident\n",
      "Died by Accident\n",
      "Died by Accident\n",
      "Died by Accident\n",
      "Died by Accident\n",
      "Died by Accident\n",
      "Died by Accident\n",
      "Died by Accident\n",
      "Died by Accident\n",
      "Died by Accident\n",
      "Died by Accident\n"
     ]
    },
    {
     "name": "stderr",
     "output_type": "stream",
     "text": [
      "\r",
      " 72%|███████▏  | 216/300 [31:14<2:16:35, 97.57s/it]"
     ]
    },
    {
     "name": "stdout",
     "output_type": "stream",
     "text": [
      "Died by Accident\n",
      "Died by Accident\n",
      "Died by Accident\n",
      "Died by Accident\n",
      "Died by Accident\n",
      "Died by Accident\n",
      "Died by Accident\n",
      "Died by Accident\n",
      "Died by Accident\n",
      "Died by Accident\n",
      "Died by Accident\n",
      "Died by Accident\n",
      "Died by Accident\n",
      "Died by Accident\n",
      "Died by Accident\n",
      "Died by Accident\n",
      "Died by Accident\n"
     ]
    },
    {
     "name": "stderr",
     "output_type": "stream",
     "text": [
      "\r",
      " 72%|███████▏  | 217/300 [33:13<2:23:59, 104.09s/it]"
     ]
    },
    {
     "name": "stdout",
     "output_type": "stream",
     "text": [
      "Died by Accident\n",
      "Died by Accident\n",
      "Died by Accident\n",
      "Died by Accident\n",
      "Died by Accident\n",
      "Died by Accident\n",
      "Died by Accident\n",
      "Died by Accident\n",
      "Died by Accident\n",
      "Died by Accident\n",
      "Died by Accident\n",
      "Died by Accident\n",
      "Died by Accident\n",
      "Died by Accident\n",
      "Died by Accident\n"
     ]
    },
    {
     "name": "stderr",
     "output_type": "stream",
     "text": [
      "\r",
      " 73%|███████▎  | 218/300 [35:19<2:31:14, 110.67s/it]"
     ]
    },
    {
     "name": "stdout",
     "output_type": "stream",
     "text": [
      "Died by Accident\n",
      "Died by Accident\n",
      "Died by Accident\n",
      "Died by Accident\n",
      "Died by Accident\n",
      "Died by Accident\n",
      "Died by Accident\n",
      "Died by Accident\n",
      "Died by Accident\n",
      "Died by Accident\n",
      "Died by Accident\n",
      "Died by Accident\n",
      "Died by Accident\n",
      "Died by Accident\n",
      "Died by Accident\n",
      "Died by Accident\n",
      "Died by Accident\n",
      "Died by Accident\n",
      "Died by Accident\n",
      "Died by Accident\n"
     ]
    },
    {
     "name": "stderr",
     "output_type": "stream",
     "text": [
      "\r",
      " 73%|███████▎  | 219/300 [37:34<2:39:04, 117.83s/it]"
     ]
    },
    {
     "name": "stdout",
     "output_type": "stream",
     "text": [
      "Died by Accident\n",
      "Died by Accident\n",
      "Died by Accident\n",
      "Died by Accident\n",
      "Died by Accident\n",
      "Died by Accident\n",
      "Died by Accident\n",
      "Died by Accident\n",
      "Died by Accident\n",
      "Died by Accident\n",
      "Died by Accident\n",
      "Died by Accident\n",
      "Died by Accident\n"
     ]
    },
    {
     "name": "stderr",
     "output_type": "stream",
     "text": [
      "\r",
      " 73%|███████▎  | 220/300 [39:55<2:46:31, 124.89s/it]"
     ]
    },
    {
     "name": "stdout",
     "output_type": "stream",
     "text": [
      "Died by Accident\n",
      "Died by Accident\n",
      "Died by Accident\n",
      "Died by Accident\n",
      "Died by Accident\n",
      "Died by Accident\n",
      "Died by Accident\n",
      "Died by Accident\n",
      "Died by Accident\n",
      "Died by Accident\n",
      "Died by Accident\n",
      "Died by Accident\n",
      "Died by Accident\n",
      "Died by Accident\n",
      "Died by Accident\n",
      "Died by Accident\n",
      "Died by Accident\n",
      "Died by Accident\n",
      "Died by Accident\n",
      "Died by Accident\n",
      "Died by Accident\n",
      "Died by Accident\n"
     ]
    },
    {
     "name": "stderr",
     "output_type": "stream",
     "text": [
      "\r",
      " 74%|███████▎  | 221/300 [42:26<2:54:48, 132.76s/it]"
     ]
    },
    {
     "name": "stdout",
     "output_type": "stream",
     "text": [
      "Died by Accident\n",
      "Died by Accident\n",
      "Died by Accident\n",
      "Died by Accident\n",
      "Died by Accident\n",
      "Died by Accident\n",
      "Died by Accident\n",
      "Died by Accident\n",
      "Died by Accident\n",
      "Died by Accident\n",
      "Died by Accident\n",
      "Died by Accident\n",
      "Died by Accident\n",
      "Died by Accident\n",
      "Died by Accident\n",
      "Died by Accident\n",
      "Died by Accident\n",
      "Died by Accident\n",
      "Died by Accident\n",
      "Died by Accident\n",
      "Died by Accident\n",
      "Died by Accident\n",
      "Died by Accident\n",
      "Died by Accident\n",
      "Died by Accident\n",
      "Died by Accident\n",
      "Died by Accident\n",
      "Died by Accident\n"
     ]
    },
    {
     "name": "stderr",
     "output_type": "stream",
     "text": [
      "\r",
      " 74%|███████▍  | 222/300 [45:12<3:05:26, 142.65s/it]"
     ]
    },
    {
     "name": "stdout",
     "output_type": "stream",
     "text": [
      "Died by Accident\n",
      "Died by Accident\n",
      "Died by Accident\n",
      "Died by Accident\n",
      "Died by Accident\n",
      "Died by Accident\n",
      "Died by Accident\n",
      "Died by Accident\n",
      "Died by Accident\n",
      "Died by Accident\n",
      "Died by Accident\n",
      "Died by Accident\n",
      "Died by Accident\n",
      "Died by Accident\n",
      "Died by Accident\n",
      "Died by Accident\n",
      "Died by Accident\n",
      "Died by Accident\n",
      "Died by Accident\n",
      "Died by Accident\n",
      "Died by Accident\n",
      "Died by Accident\n",
      "Died by Accident\n",
      "Died by Accident\n"
     ]
    },
    {
     "name": "stderr",
     "output_type": "stream",
     "text": [
      "\r",
      " 74%|███████▍  | 223/300 [48:06<3:14:57, 151.92s/it]"
     ]
    },
    {
     "name": "stdout",
     "output_type": "stream",
     "text": [
      "Died by Accident\n",
      "Died by Accident\n",
      "Died by Accident\n",
      "Died by Accident\n",
      "Died by Accident\n",
      "Died by Accident\n",
      "Died by Accident\n",
      "Died by Accident\n",
      "Died by Accident\n",
      "Died by Accident\n",
      "Died by Accident\n",
      "Died by Accident\n",
      "Died by Accident\n",
      "Died by Accident\n",
      "Died by Accident\n",
      "Died by Accident\n",
      "Died by Accident\n",
      "Died by Accident\n",
      "Died by Accident\n",
      "Died by Accident\n",
      "Died by Accident\n",
      "Died by Accident\n",
      "Died by Accident\n",
      "Died by Accident\n",
      "Died by Accident\n"
     ]
    },
    {
     "name": "stderr",
     "output_type": "stream",
     "text": [
      "\r",
      " 75%|███████▍  | 224/300 [51:09<3:24:18, 161.29s/it]"
     ]
    },
    {
     "name": "stdout",
     "output_type": "stream",
     "text": [
      "Died by Accident\n",
      "Died by Accident\n",
      "Died by Accident\n",
      "Died by Accident\n",
      "Died by Accident\n",
      "Died by Accident\n",
      "Died by Accident\n",
      "Died by Accident\n",
      "Died by Accident\n",
      "Died by Accident\n",
      "Died by Accident\n",
      "Died by Accident\n",
      "Died by Accident\n",
      "Died by Accident\n",
      "Died by Accident\n",
      "Died by Accident\n",
      "Died by Accident\n",
      "Died by Accident\n",
      "Died by Accident\n",
      "Died by Accident\n"
     ]
    },
    {
     "name": "stderr",
     "output_type": "stream",
     "text": [
      "\r",
      " 75%|███████▌  | 225/300 [54:37<3:39:14, 175.40s/it]"
     ]
    },
    {
     "name": "stdout",
     "output_type": "stream",
     "text": [
      "Died by Accident\n",
      "Died by Accident\n",
      "Died by Accident\n",
      "Died by Accident\n",
      "Died by Accident\n",
      "Died by Accident\n",
      "Died by Accident\n",
      "Died by Accident\n",
      "Died by Accident\n",
      "Died by Accident\n",
      "Died by Accident\n",
      "Died by Accident\n",
      "Died by Accident\n",
      "Died by Accident\n",
      "Died by Accident\n",
      "Died by Accident\n",
      "Died by Accident\n",
      "Died by Accident\n",
      "Died by Accident\n",
      "Died by Accident\n"
     ]
    },
    {
     "name": "stderr",
     "output_type": "stream",
     "text": [
      "\r",
      " 75%|███████▌  | 226/300 [58:10<3:50:01, 186.51s/it]"
     ]
    },
    {
     "name": "stdout",
     "output_type": "stream",
     "text": [
      "Died by Accident\n",
      "Died by Accident\n",
      "Died by Accident\n",
      "Died by Accident\n",
      "Died by Accident\n",
      "Died by Accident\n",
      "Died by Accident\n",
      "Died by Accident\n",
      "Died by Accident\n",
      "Died by Accident\n",
      "Died by Accident\n",
      "Died by Accident\n",
      "Died by Accident\n",
      "Died by Accident\n",
      "Died by Accident\n",
      "Died by Accident\n",
      "Died by Accident\n",
      "Died by Accident\n",
      "Died by Accident\n",
      "Died by Accident\n",
      "Died by Accident\n"
     ]
    },
    {
     "name": "stderr",
     "output_type": "stream",
     "text": [
      "\r",
      " 76%|███████▌  | 227/300 [1:01:51<3:59:49, 197.11s/it]"
     ]
    },
    {
     "name": "stdout",
     "output_type": "stream",
     "text": [
      "Died by Accident\n",
      "Died by Accident\n",
      "Died by Accident\n",
      "Died by Accident\n",
      "Died by Accident\n",
      "Died by Accident\n",
      "Died by Accident\n",
      "Died by Accident\n",
      "Died by Accident\n",
      "Died by Accident\n",
      "Died by Accident\n",
      "Died by Accident\n",
      "Died by Accident\n",
      "Died by Accident\n",
      "Died by Accident\n",
      "Died by Accident\n",
      "Died by Accident\n",
      "Died by Accident\n",
      "Died by Accident\n",
      "Died by Accident\n",
      "Died by Accident\n",
      "Died by Accident\n",
      "Died by Accident\n",
      "Died by Accident\n",
      "Died by Accident\n",
      "Died by Accident\n"
     ]
    },
    {
     "name": "stderr",
     "output_type": "stream",
     "text": [
      "\r",
      " 76%|███████▌  | 228/300 [1:05:46<4:10:01, 208.36s/it]"
     ]
    },
    {
     "name": "stdout",
     "output_type": "stream",
     "text": [
      "Died by Accident\n",
      "Died by Accident\n",
      "Died by Accident\n",
      "Died by Accident\n",
      "Died by Accident\n",
      "Died by Accident\n",
      "Died by Accident\n",
      "Died by Accident\n",
      "Died by Accident\n",
      "Died by Accident\n",
      "Died by Accident\n",
      "Died by Accident\n",
      "Died by Accident\n",
      "Died by Accident\n",
      "Died by Accident\n",
      "Died by Accident\n",
      "Died by Accident\n",
      "Died by Accident\n",
      "Died by Accident\n",
      "Died by Accident\n",
      "Died by Accident\n",
      "Died by Accident\n"
     ]
    },
    {
     "name": "stderr",
     "output_type": "stream",
     "text": [
      "\r",
      " 76%|███████▋  | 229/300 [1:09:56<4:21:09, 220.70s/it]"
     ]
    },
    {
     "name": "stdout",
     "output_type": "stream",
     "text": [
      "Died by Accident\n",
      "Died by Accident\n",
      "Died by Accident\n",
      "Died by Accident\n",
      "Died by Accident\n",
      "Died by Accident\n",
      "Died by Accident\n",
      "Died by Accident\n",
      "Died by Accident\n",
      "Died by Accident\n",
      "Died by Accident\n",
      "Died by Accident\n",
      "Died by Accident\n",
      "Died by Accident\n",
      "Died by Accident\n",
      "Died by Accident\n",
      "Died by Accident\n",
      "Died by Accident\n",
      "Died by Accident\n",
      "Died by Accident\n",
      "Died by Accident\n",
      "Died by Accident\n",
      "Died by Accident\n",
      "Died by Accident\n",
      "Died by Accident\n",
      "Died by Accident\n",
      "Died by Accident\n",
      "Died by Accident\n",
      "Died by Accident\n",
      "Died by Accident\n",
      "Died by Accident\n",
      "Died by Accident\n",
      "Died by Accident\n"
     ]
    },
    {
     "name": "stderr",
     "output_type": "stream",
     "text": [
      "\r",
      " 77%|███████▋  | 230/300 [1:14:20<4:32:56, 233.95s/it]"
     ]
    },
    {
     "name": "stdout",
     "output_type": "stream",
     "text": [
      "Died by Accident\n",
      "Died by Accident\n",
      "Died by Accident\n",
      "Died by Accident\n",
      "Died by Accident\n",
      "Died by Accident\n",
      "Died by Accident\n",
      "Died by Accident\n",
      "Died by Accident\n",
      "Died by Accident\n",
      "Died by Accident\n",
      "Died by Accident\n",
      "Died by Accident\n",
      "Died by Accident\n",
      "Died by Accident\n",
      "Died by Accident\n",
      "Died by Accident\n",
      "Died by Accident\n",
      "Died by Accident\n",
      "Died by Accident\n",
      "Died by Accident\n",
      "Died by Accident\n",
      "Died by Accident\n",
      "Died by Accident\n",
      "Died by Accident\n",
      "Died by Accident\n"
     ]
    },
    {
     "name": "stderr",
     "output_type": "stream",
     "text": [
      "\r",
      " 77%|███████▋  | 231/300 [1:18:55<4:43:13, 246.28s/it]"
     ]
    },
    {
     "name": "stdout",
     "output_type": "stream",
     "text": [
      "Died by Accident\n",
      "Died by Accident\n",
      "Died by Accident\n",
      "Died by Accident\n",
      "Died by Accident\n",
      "Died by Accident\n",
      "Died by Accident\n",
      "Died by Accident\n",
      "Died by Accident\n",
      "Died by Accident\n",
      "Died by Accident\n",
      "Died by Accident\n",
      "Died by Accident\n",
      "Died by Accident\n",
      "Died by Accident\n",
      "Died by Accident\n",
      "Died by Accident\n",
      "Died by Accident\n",
      "Died by Accident\n",
      "Died by Accident\n",
      "Died by Accident\n",
      "Died by Accident\n",
      "Died by Accident\n",
      "Died by Accident\n",
      "Died by Accident\n"
     ]
    },
    {
     "name": "stderr",
     "output_type": "stream",
     "text": [
      "\r",
      " 77%|███████▋  | 232/300 [1:23:54<4:56:48, 261.88s/it]"
     ]
    },
    {
     "name": "stdout",
     "output_type": "stream",
     "text": [
      "Died by Accident\n",
      "Died by Accident\n",
      "Died by Accident\n",
      "Died by Accident\n",
      "Died by Accident\n",
      "Died by Accident\n",
      "Died by Accident\n",
      "Died by Accident\n",
      "Died by Accident\n",
      "Died by Accident\n",
      "Died by Accident\n",
      "Died by Accident\n",
      "Died by Accident\n",
      "Died by Accident\n",
      "Died by Accident\n",
      "Died by Accident\n",
      "Died by Accident\n",
      "Died by Accident\n",
      "Died by Accident\n",
      "Died by Accident\n",
      "Died by Accident\n",
      "Died by Accident\n",
      "Died by Accident\n",
      "Died by Accident\n",
      "Died by Accident\n",
      "Died by Accident\n",
      "Died by Accident\n",
      "Died by Accident\n",
      "Died by Accident\n",
      "Died by Accident\n",
      "Died by Accident\n",
      "Died by Accident\n",
      "Died by Accident\n",
      "Died by Accident\n",
      "Died by Accident\n",
      "Died by Accident\n",
      "Died by Accident\n",
      "Died by Accident\n"
     ]
    },
    {
     "name": "stderr",
     "output_type": "stream",
     "text": [
      "\r",
      " 78%|███████▊  | 233/300 [1:29:08<5:10:05, 277.69s/it]"
     ]
    },
    {
     "name": "stdout",
     "output_type": "stream",
     "text": [
      "Died by Accident\n",
      "Died by Accident\n",
      "Died by Accident\n",
      "Died by Accident\n",
      "Died by Accident\n",
      "Died by Accident\n",
      "Died by Accident\n",
      "Died by Accident\n",
      "Died by Accident\n",
      "Died by Accident\n",
      "Died by Accident\n",
      "Died by Accident\n",
      "Died by Accident\n",
      "Died by Accident\n",
      "Died by Accident\n",
      "Died by Accident\n",
      "Died by Accident\n",
      "Died by Accident\n",
      "Died by Accident\n",
      "Died by Accident\n",
      "Died by Accident\n",
      "Died by Accident\n",
      "Died by Accident\n",
      "Died by Accident\n",
      "Died by Accident\n",
      "Died by Accident\n",
      "Died by Accident\n",
      "Died by Accident\n",
      "Died by Accident\n",
      "Died by Accident\n",
      "Died by Accident\n",
      "Died by Accident\n",
      "Died by Accident\n"
     ]
    },
    {
     "name": "stderr",
     "output_type": "stream",
     "text": [
      "\r",
      " 78%|███████▊  | 234/300 [1:34:43<5:24:23, 294.90s/it]"
     ]
    },
    {
     "name": "stdout",
     "output_type": "stream",
     "text": [
      "Died by Accident\n",
      "Died by Accident\n",
      "Died by Accident\n",
      "Died by Accident\n",
      "Died by Accident\n",
      "Died by Accident\n",
      "Died by Accident\n",
      "Died by Accident\n",
      "Died by Accident\n",
      "Died by Accident\n",
      "Died by Accident\n",
      "Died by Accident\n",
      "Died by Accident\n",
      "Died by Accident\n",
      "Died by Accident\n",
      "Died by Accident\n",
      "Died by Accident\n",
      "Died by Accident\n",
      "Died by Accident\n",
      "Died by Accident\n",
      "Died by Accident\n",
      "Died by Accident\n",
      "Died by Accident\n",
      "Died by Accident\n",
      "Died by Accident\n",
      "Died by Accident\n",
      "Died by Accident\n",
      "Died by Accident\n",
      "Died by Accident\n",
      "Died by Accident\n",
      "Died by Accident\n"
     ]
    },
    {
     "name": "stderr",
     "output_type": "stream",
     "text": [
      "\r",
      " 78%|███████▊  | 235/300 [1:40:42<5:40:12, 314.04s/it]"
     ]
    },
    {
     "name": "stdout",
     "output_type": "stream",
     "text": [
      "Died by Accident\n",
      "Died by Accident\n",
      "Died by Accident\n",
      "Died by Accident\n",
      "Died by Accident\n",
      "Died by Accident\n",
      "Died by Accident\n",
      "Died by Accident\n",
      "Died by Accident\n",
      "Died by Accident\n",
      "Died by Accident\n",
      "Died by Accident\n",
      "Died by Accident\n",
      "Died by Accident\n",
      "Died by Accident\n",
      "Died by Accident\n",
      "Died by Accident\n",
      "Died by Accident\n",
      "Died by Accident\n",
      "Died by Accident\n",
      "Died by Accident\n",
      "Died by Accident\n",
      "Died by Accident\n",
      "Died by Accident\n",
      "Died by Accident\n",
      "Died by Accident\n",
      "Died by Accident\n",
      "Died by Accident\n",
      "Died by Accident\n"
     ]
    },
    {
     "ename": "KeyboardInterrupt",
     "evalue": "",
     "output_type": "error",
     "traceback": [
      "\u001b[0;31m---------------------------------------------------------------------------\u001b[0m",
      "\u001b[0;31mKeyboardInterrupt\u001b[0m                         Traceback (most recent call last)",
      "\u001b[0;32m<ipython-input-3-39cccb0730e3>\u001b[0m in \u001b[0;36m<module>\u001b[0;34m\u001b[0m\n\u001b[1;32m     13\u001b[0m \u001b[0;34m\u001b[0m\u001b[0m\n\u001b[1;32m     14\u001b[0m \u001b[0;32mfor\u001b[0m \u001b[0mi\u001b[0m \u001b[0;32min\u001b[0m \u001b[0mtqdm\u001b[0m\u001b[0;34m(\u001b[0m\u001b[0mrange\u001b[0m\u001b[0;34m(\u001b[0m\u001b[0;36m300\u001b[0m\u001b[0;34m)\u001b[0m\u001b[0;34m)\u001b[0m\u001b[0;34m:\u001b[0m\u001b[0;34m\u001b[0m\u001b[0;34m\u001b[0m\u001b[0m\n\u001b[0;32m---> 15\u001b[0;31m     \u001b[0;32mif\u001b[0m \u001b[0;32mnot\u001b[0m \u001b[0mcolony_1\u001b[0m\u001b[0;34m.\u001b[0m\u001b[0mnew_round\u001b[0m\u001b[0;34m(\u001b[0m\u001b[0;34m)\u001b[0m\u001b[0;34m:\u001b[0m\u001b[0;34m\u001b[0m\u001b[0;34m\u001b[0m\u001b[0m\n\u001b[0m\u001b[1;32m     16\u001b[0m         \u001b[0mprint\u001b[0m\u001b[0;34m(\u001b[0m\u001b[0;34m\"Colony Lost\"\u001b[0m\u001b[0;34m)\u001b[0m\u001b[0;34m\u001b[0m\u001b[0;34m\u001b[0m\u001b[0m\n\u001b[1;32m     17\u001b[0m         \u001b[0;32mbreak\u001b[0m\u001b[0;34m\u001b[0m\u001b[0;34m\u001b[0m\u001b[0m\n",
      "\u001b[0;32m~/Dropbox/Coding/Projects/MarsColonie/Pioneers.py\u001b[0m in \u001b[0;36mnew_round\u001b[0;34m(self)\u001b[0m\n\u001b[1;32m     52\u001b[0m             \u001b[0mperson\u001b[0m\u001b[0;34m.\u001b[0m\u001b[0mstay_alive\u001b[0m\u001b[0;34m(\u001b[0m\u001b[0;34m)\u001b[0m\u001b[0;34m\u001b[0m\u001b[0;34m\u001b[0m\u001b[0m\n\u001b[1;32m     53\u001b[0m         \u001b[0;32mfor\u001b[0m \u001b[0mperson\u001b[0m \u001b[0;32min\u001b[0m \u001b[0mPopulation\u001b[0m\u001b[0;34m.\u001b[0m\u001b[0mfemales_list\u001b[0m\u001b[0;34m:\u001b[0m\u001b[0;34m\u001b[0m\u001b[0;34m\u001b[0m\u001b[0m\n\u001b[0;32m---> 54\u001b[0;31m             \u001b[0mperson\u001b[0m\u001b[0;34m.\u001b[0m\u001b[0minteract\u001b[0m\u001b[0;34m(\u001b[0m\u001b[0;34m)\u001b[0m\u001b[0;34m\u001b[0m\u001b[0;34m\u001b[0m\u001b[0m\n\u001b[0m\u001b[1;32m     55\u001b[0m         \u001b[0mPopulation\u001b[0m\u001b[0;34m.\u001b[0m\u001b[0mrounds_list\u001b[0m\u001b[0;34m[\u001b[0m\u001b[0;34m-\u001b[0m\u001b[0;36m1\u001b[0m\u001b[0;34m]\u001b[0m\u001b[0;34m.\u001b[0m\u001b[0mstore\u001b[0m\u001b[0;34m(\u001b[0m\u001b[0;34m)\u001b[0m\u001b[0;34m\u001b[0m\u001b[0;34m\u001b[0m\u001b[0m\n\u001b[1;32m     56\u001b[0m         \u001b[0;32mif\u001b[0m \u001b[0mlen\u001b[0m\u001b[0;34m(\u001b[0m\u001b[0mPopulation\u001b[0m\u001b[0;34m.\u001b[0m\u001b[0mcolonists_list\u001b[0m\u001b[0;34m)\u001b[0m \u001b[0;34m==\u001b[0m \u001b[0;36m0\u001b[0m\u001b[0;34m:\u001b[0m\u001b[0;34m\u001b[0m\u001b[0;34m\u001b[0m\u001b[0m\n",
      "\u001b[0;32m~/Dropbox/Coding/Projects/MarsColonie/Pioneers.py\u001b[0m in \u001b[0;36minteract\u001b[0;34m(self)\u001b[0m\n\u001b[1;32m    256\u001b[0m         \u001b[0mnum_interactions\u001b[0m \u001b[0;34m=\u001b[0m \u001b[0mPopulation\u001b[0m\u001b[0;34m.\u001b[0m\u001b[0mnum_interactions\u001b[0m\u001b[0;34m\u001b[0m\u001b[0;34m\u001b[0m\u001b[0m\n\u001b[1;32m    257\u001b[0m         \u001b[0minter\u001b[0m \u001b[0;34m=\u001b[0m \u001b[0;36m0\u001b[0m\u001b[0;34m\u001b[0m\u001b[0;34m\u001b[0m\u001b[0m\n\u001b[0;32m--> 258\u001b[0;31m         \u001b[0mpos_partners\u001b[0m \u001b[0;34m=\u001b[0m \u001b[0mself\u001b[0m\u001b[0;34m.\u001b[0m\u001b[0mget_possible_partners\u001b[0m\u001b[0;34m(\u001b[0m\u001b[0;34m)\u001b[0m\u001b[0;34m\u001b[0m\u001b[0;34m\u001b[0m\u001b[0m\n\u001b[0m\u001b[1;32m    259\u001b[0m         \u001b[0;32mif\u001b[0m \u001b[0mself\u001b[0m\u001b[0;34m.\u001b[0m\u001b[0mpregnant\u001b[0m \u001b[0;34m==\u001b[0m \u001b[0;32mFalse\u001b[0m\u001b[0;34m:\u001b[0m\u001b[0;34m\u001b[0m\u001b[0;34m\u001b[0m\u001b[0m\n\u001b[1;32m    260\u001b[0m             \u001b[0;32mif\u001b[0m \u001b[0mlen\u001b[0m\u001b[0;34m(\u001b[0m\u001b[0mself\u001b[0m\u001b[0;34m.\u001b[0m\u001b[0mchildren\u001b[0m\u001b[0;34m)\u001b[0m \u001b[0;34m>=\u001b[0m\u001b[0mPopulation\u001b[0m\u001b[0;34m.\u001b[0m\u001b[0mmax_children\u001b[0m\u001b[0;34m:\u001b[0m\u001b[0;34m\u001b[0m\u001b[0;34m\u001b[0m\u001b[0m\n",
      "\u001b[0;32m~/Dropbox/Coding/Projects/MarsColonie/Pioneers.py\u001b[0m in \u001b[0;36mget_possible_partners\u001b[0;34m(self)\u001b[0m\n\u001b[1;32m    249\u001b[0m         \u001b[0;31m#print(f\"min:{age_min}\")\u001b[0m\u001b[0;34m\u001b[0m\u001b[0;34m\u001b[0m\u001b[0;34m\u001b[0m\u001b[0m\n\u001b[1;32m    250\u001b[0m         \u001b[0;31m#print(f\"max:{age_max}\")\u001b[0m\u001b[0;34m\u001b[0m\u001b[0;34m\u001b[0m\u001b[0;34m\u001b[0m\u001b[0m\n\u001b[0;32m--> 251\u001b[0;31m         \u001b[0mself\u001b[0m\u001b[0;34m.\u001b[0m\u001b[0mpossible_partners\u001b[0m \u001b[0;34m=\u001b[0m \u001b[0mlist\u001b[0m\u001b[0;34m(\u001b[0m\u001b[0mfilter\u001b[0m\u001b[0;34m(\u001b[0m\u001b[0;32mlambda\u001b[0m \u001b[0mperson\u001b[0m\u001b[0;34m:\u001b[0m \u001b[0mself\u001b[0m\u001b[0;34m.\u001b[0m\u001b[0mget_relation\u001b[0m\u001b[0;34m(\u001b[0m\u001b[0mperson\u001b[0m\u001b[0;34m)\u001b[0m\u001b[0;34m>\u001b[0m\u001b[0;36m4\u001b[0m \u001b[0;32mand\u001b[0m \u001b[0;34m(\u001b[0m\u001b[0mage_min\u001b[0m \u001b[0;34m<=\u001b[0m \u001b[0mperson\u001b[0m\u001b[0;34m.\u001b[0m\u001b[0mget_age\u001b[0m\u001b[0;34m(\u001b[0m\u001b[0;34m)\u001b[0m\u001b[0;34m<=\u001b[0m\u001b[0mage_max\u001b[0m\u001b[0;34m)\u001b[0m\u001b[0;34m,\u001b[0m\u001b[0mPopulation\u001b[0m\u001b[0;34m.\u001b[0m\u001b[0mmales_list\u001b[0m\u001b[0;34m)\u001b[0m\u001b[0;34m)\u001b[0m\u001b[0;34m\u001b[0m\u001b[0;34m\u001b[0m\u001b[0m\n\u001b[0m\u001b[1;32m    252\u001b[0m         \u001b[0;32mreturn\u001b[0m \u001b[0mself\u001b[0m\u001b[0;34m.\u001b[0m\u001b[0mpossible_partners\u001b[0m\u001b[0;34m\u001b[0m\u001b[0;34m\u001b[0m\u001b[0m\n\u001b[1;32m    253\u001b[0m \u001b[0;34m\u001b[0m\u001b[0m\n",
      "\u001b[0;32m~/Dropbox/Coding/Projects/MarsColonie/Pioneers.py\u001b[0m in \u001b[0;36m<lambda>\u001b[0;34m(person)\u001b[0m\n\u001b[1;32m    249\u001b[0m         \u001b[0;31m#print(f\"min:{age_min}\")\u001b[0m\u001b[0;34m\u001b[0m\u001b[0;34m\u001b[0m\u001b[0;34m\u001b[0m\u001b[0m\n\u001b[1;32m    250\u001b[0m         \u001b[0;31m#print(f\"max:{age_max}\")\u001b[0m\u001b[0;34m\u001b[0m\u001b[0;34m\u001b[0m\u001b[0;34m\u001b[0m\u001b[0m\n\u001b[0;32m--> 251\u001b[0;31m         \u001b[0mself\u001b[0m\u001b[0;34m.\u001b[0m\u001b[0mpossible_partners\u001b[0m \u001b[0;34m=\u001b[0m \u001b[0mlist\u001b[0m\u001b[0;34m(\u001b[0m\u001b[0mfilter\u001b[0m\u001b[0;34m(\u001b[0m\u001b[0;32mlambda\u001b[0m \u001b[0mperson\u001b[0m\u001b[0;34m:\u001b[0m \u001b[0mself\u001b[0m\u001b[0;34m.\u001b[0m\u001b[0mget_relation\u001b[0m\u001b[0;34m(\u001b[0m\u001b[0mperson\u001b[0m\u001b[0;34m)\u001b[0m\u001b[0;34m>\u001b[0m\u001b[0;36m4\u001b[0m \u001b[0;32mand\u001b[0m \u001b[0;34m(\u001b[0m\u001b[0mage_min\u001b[0m \u001b[0;34m<=\u001b[0m \u001b[0mperson\u001b[0m\u001b[0;34m.\u001b[0m\u001b[0mget_age\u001b[0m\u001b[0;34m(\u001b[0m\u001b[0;34m)\u001b[0m\u001b[0;34m<=\u001b[0m\u001b[0mage_max\u001b[0m\u001b[0;34m)\u001b[0m\u001b[0;34m,\u001b[0m\u001b[0mPopulation\u001b[0m\u001b[0;34m.\u001b[0m\u001b[0mmales_list\u001b[0m\u001b[0;34m)\u001b[0m\u001b[0;34m)\u001b[0m\u001b[0;34m\u001b[0m\u001b[0;34m\u001b[0m\u001b[0m\n\u001b[0m\u001b[1;32m    252\u001b[0m         \u001b[0;32mreturn\u001b[0m \u001b[0mself\u001b[0m\u001b[0;34m.\u001b[0m\u001b[0mpossible_partners\u001b[0m\u001b[0;34m\u001b[0m\u001b[0;34m\u001b[0m\u001b[0m\n\u001b[1;32m    253\u001b[0m \u001b[0;34m\u001b[0m\u001b[0m\n",
      "\u001b[0;32m~/Dropbox/Coding/Projects/MarsColonie/Pioneers.py\u001b[0m in \u001b[0;36mget_relation\u001b[0;34m(self, person, verbose)\u001b[0m\n\u001b[1;32m    185\u001b[0m             \u001b[0;32melse\u001b[0m\u001b[0;34m:\u001b[0m\u001b[0;34m\u001b[0m\u001b[0;34m\u001b[0m\u001b[0m\n\u001b[1;32m    186\u001b[0m                 \u001b[0;32mreturn\u001b[0m \u001b[0;34m[\u001b[0m\u001b[0;36m2\u001b[0m\u001b[0;34m,\u001b[0m\u001b[0;34m\"grandma\"\u001b[0m\u001b[0;34m]\u001b[0m\u001b[0;34m[\u001b[0m\u001b[0mverbose\u001b[0m\u001b[0;34m]\u001b[0m\u001b[0;34m\u001b[0m\u001b[0;34m\u001b[0m\u001b[0m\n\u001b[0;32m--> 187\u001b[0;31m         \u001b[0;32mif\u001b[0m \u001b[0mperson\u001b[0m \u001b[0;32min\u001b[0m \u001b[0mself\u001b[0m\u001b[0;34m.\u001b[0m\u001b[0mget_uncles\u001b[0m\u001b[0;34m(\u001b[0m\u001b[0;34m)\u001b[0m\u001b[0;34m:\u001b[0m\u001b[0;34m\u001b[0m\u001b[0;34m\u001b[0m\u001b[0m\n\u001b[0m\u001b[1;32m    188\u001b[0m             \u001b[0;32mif\u001b[0m \u001b[0mperson\u001b[0m\u001b[0;34m.\u001b[0m\u001b[0msex\u001b[0m \u001b[0;34m==\u001b[0m \u001b[0;34m\"m\"\u001b[0m\u001b[0;34m:\u001b[0m\u001b[0;34m\u001b[0m\u001b[0;34m\u001b[0m\u001b[0m\n\u001b[1;32m    189\u001b[0m                 \u001b[0;32mreturn\u001b[0m \u001b[0;34m[\u001b[0m\u001b[0;36m3\u001b[0m\u001b[0;34m,\u001b[0m\u001b[0;34m\"uncle\"\u001b[0m\u001b[0;34m]\u001b[0m\u001b[0;34m[\u001b[0m\u001b[0mverbose\u001b[0m\u001b[0;34m]\u001b[0m\u001b[0;34m\u001b[0m\u001b[0;34m\u001b[0m\u001b[0m\n",
      "\u001b[0;32m~/Dropbox/Coding/Projects/MarsColonie/Pioneers.py\u001b[0m in \u001b[0;36mget_uncles\u001b[0;34m(self)\u001b[0m\n\u001b[1;32m    165\u001b[0m     \u001b[0;32mdef\u001b[0m \u001b[0mget_uncles\u001b[0m\u001b[0;34m(\u001b[0m\u001b[0mself\u001b[0m\u001b[0;34m)\u001b[0m\u001b[0;34m:\u001b[0m\u001b[0;34m\u001b[0m\u001b[0;34m\u001b[0m\u001b[0m\n\u001b[1;32m    166\u001b[0m         \u001b[0muncles\u001b[0m \u001b[0;34m=\u001b[0m \u001b[0;34m[\u001b[0m\u001b[0;34m]\u001b[0m\u001b[0;34m\u001b[0m\u001b[0;34m\u001b[0m\u001b[0m\n\u001b[0;32m--> 167\u001b[0;31m         \u001b[0;32mif\u001b[0m \u001b[0mlen\u001b[0m\u001b[0;34m(\u001b[0m\u001b[0mself\u001b[0m\u001b[0;34m.\u001b[0m\u001b[0mparents\u001b[0m\u001b[0;34m)\u001b[0m\u001b[0;34m<\u001b[0m\u001b[0;36m2\u001b[0m\u001b[0;34m:\u001b[0m\u001b[0;34m\u001b[0m\u001b[0;34m\u001b[0m\u001b[0m\n\u001b[0m\u001b[1;32m    168\u001b[0m             \u001b[0;32mreturn\u001b[0m \u001b[0;34m[\u001b[0m\u001b[0;34m]\u001b[0m\u001b[0;34m\u001b[0m\u001b[0;34m\u001b[0m\u001b[0m\n\u001b[1;32m    169\u001b[0m         \u001b[0;32mfor\u001b[0m \u001b[0mparent\u001b[0m \u001b[0;32min\u001b[0m \u001b[0mself\u001b[0m\u001b[0;34m.\u001b[0m\u001b[0mparents\u001b[0m\u001b[0;34m:\u001b[0m\u001b[0;34m\u001b[0m\u001b[0;34m\u001b[0m\u001b[0m\n",
      "\u001b[0;31mKeyboardInterrupt\u001b[0m: "
     ]
    }
   ],
   "source": [
    "# Root Generatrion\n",
    "p.Pioneer(name = \"Kasper Hauser\" , birthyear = -30 , sex = \"m\");\n",
    "p.Pioneer(name = \"Cristoph Columbus\" , birthyear = -25, sex = \"m\");\n",
    "p.Pioneer(name = \"Ada Lovelace\", birthyear = -25 , sex = \"f\");\n",
    "p.Pioneer(name = \"Marie Curie\", birthyear = -27, sex = \"f\");\n",
    "p.Pioneer(name = \"Lise Meitner\", birthyear = -27, sex = \"f\" );\n",
    "p.Pioneer(birthyear = -27, sex=\"f\")\n",
    "p.Pioneer(birthyear = -27,sex=\"m\")\n",
    "#p.Pioneer(birthyear = -27,sex=\"m\")\n",
    "#p.Pioneer(birthyear = -27,sex=\"m\")\n",
    "#p.Pioneer(birthyear = -27,sex=\"m\")"
   ]
  },
  {
   "cell_type": "code",
   "execution_count": null,
   "metadata": {},
   "outputs": [],
   "source": [
    "#run simulation\n",
    "for i in tqdm(range(300)):\n",
    "    if not colony_1.new_round():\n",
    "        print(\"Colony Lost\")\n",
    "        break\n",
    "df = p.Round.round_df.set_index(\"number\")\n",
    "plot_graphs()"
   ]
  },
  {
   "cell_type": "code",
   "execution_count": 5,
   "metadata": {},
   "outputs": [
    {
     "data": {
      "image/png": "[encoded data removed]",
      "text/plain": [
       "<Figure size 1080x720 with 1 Axes>"
      ]
     },
     "metadata": {},
     "output_type": "display_data"
    },
    {
     "data": {
      "image/png": "[encoded data removed]",
      "text/plain": [
       "<Figure size 1080x720 with 1 Axes>"
      ]
     },
     "metadata": {},
     "output_type": "display_data"
    }
   ],
   "source": [
    "#evaluate results\n",
    "df = p.Round.round_df.set_index(\"number\")\n",
    "plot_graphs()"
   ]
  },
  {
   "cell_type": "code",
   "execution_count": null,
   "metadata": {},
   "outputs": [],
   "source": []
  },
  {
   "cell_type": "code",
   "execution_count": null,
   "metadata": {},
   "outputs": [],
   "source": []
  },
  {
   "cell_type": "code",
   "execution_count": null,
   "metadata": {},
   "outputs": [],
   "source": []
  },
  {
   "cell_type": "code",
   "execution_count": null,
   "metadata": {},
   "outputs": [],
   "source": []
  },
  {
   "cell_type": "code",
   "execution_count": null,
   "metadata": {},
   "outputs": [],
   "source": []
  },
  {
   "cell_type": "code",
   "execution_count": null,
   "metadata": {},
   "outputs": [],
   "source": []
  },
  {
   "cell_type": "code",
   "execution_count": null,
   "metadata": {},
   "outputs": [],
   "source": []
  },
  {
   "cell_type": "code",
   "execution_count": null,
   "metadata": {},
   "outputs": [],
   "source": []
  },
  {
   "cell_type": "code",
   "execution_count": null,
   "metadata": {},
   "outputs": [],
   "source": []
  },
  {
   "cell_type": "code",
   "execution_count": null,
   "metadata": {},
   "outputs": [],
   "source": []
  },
  {
   "cell_type": "code",
   "execution_count": null,
   "metadata": {},
   "outputs": [],
   "source": []
  },
  {
   "cell_type": "code",
   "execution_count": null,
   "metadata": {},
   "outputs": [],
   "source": [
    "df.birth_ticker.sum()"
   ]
  },
  {
   "cell_type": "code",
   "execution_count": 11,
   "metadata": {},
   "outputs": [],
   "source": [
    "#df.to_csv(\"mars_7_Start_3M4F_maxKids_8_s.csv\", index = False)"
   ]
  },
  {
   "cell_type": "code",
   "execution_count": null,
   "metadata": {},
   "outputs": [],
   "source": [
    "p.Population.eternity_list[10].children"
   ]
  },
  {
   "cell_type": "code",
   "execution_count": 13,
   "metadata": {},
   "outputs": [],
   "source": [
    "num_kids = [len(colo.children) for colo in p.Population.eternity_list]\n",
    "num_kids_S = pd.Series(num_kids)"
   ]
  },
  {
   "cell_type": "code",
   "execution_count": 31,
   "metadata": {},
   "outputs": [],
   "source": [
    "parents = pd.Series(list(filter(lambda x: x>0, num_kids_S)))"
   ]
  },
  {
   "cell_type": "code",
   "execution_count": 32,
   "metadata": {
    "scrolled": true
   },
   "outputs": [
    {
     "data": {
      "text/plain": [
       "<matplotlib.axes._subplots.AxesSubplot at 0x1a230d1f98>"
      ]
     },
     "execution_count": 32,
     "metadata": {},
     "output_type": "execute_result"
    },
    {
     "data": {
      "image/png": "[encoded data removed]",
      "text/plain": [
       "<Figure size 432x288 with 1 Axes>"
      ]
     },
     "metadata": {
      "needs_background": "light"
     },
     "output_type": "display_data"
    }
   ],
   "source": [
    "parents.hist()"
   ]
  },
  {
   "cell_type": "code",
   "execution_count": 24,
   "metadata": {},
   "outputs": [
    {
     "data": {
      "text/plain": [
       "<matplotlib.axes._subplots.AxesSubplot at 0x1a23011da0>"
      ]
     },
     "execution_count": 24,
     "metadata": {},
     "output_type": "execute_result"
    },
    {
     "data": {
      "image/png": "[encoded data removed]",
      "text/plain": [
       "<Figure size 432x288 with 1 Axes>"
      ]
     },
     "metadata": {
      "needs_background": "light"
     },
     "output_type": "display_data"
    }
   ],
   "source": [
    "num_kids_S.hist(width = 2)"
   ]
  },
  {
   "cell_type": "code",
   "execution_count": null,
   "metadata": {},
   "outputs": [],
   "source": []
  },
  {
   "cell_type": "code",
   "execution_count": null,
   "metadata": {},
   "outputs": [],
   "source": []
  },
  {
   "cell_type": "code",
   "execution_count": null,
   "metadata": {},
   "outputs": [],
   "source": []
  },
  {
   "cell_type": "code",
   "execution_count": null,
   "metadata": {},
   "outputs": [],
   "source": []
  },
  {
   "cell_type": "code",
   "execution_count": null,
   "metadata": {},
   "outputs": [],
   "source": []
  },
  {
   "cell_type": "code",
   "execution_count": null,
   "metadata": {},
   "outputs": [],
   "source": []
  },
  {
   "cell_type": "code",
   "execution_count": null,
   "metadata": {},
   "outputs": [],
   "source": [
    "print(f\"My Age = {p.Population.females_list[0].get_age()}\")\n",
    "partners = p.Population.females_list[0].get_possible_partners()\n",
    "print(f\"Num possible Partners: {len(partners)}\")\n",
    "for partner in partners:\n",
    "    print(f\"{partner}\")"
   ]
  },
  {
   "cell_type": "code",
   "execution_count": null,
   "metadata": {},
   "outputs": [],
   "source": [
    "from tqdm import tqdm"
   ]
  },
  {
   "cell_type": "code",
   "execution_count": null,
   "metadata": {
    "scrolled": true
   },
   "outputs": [],
   "source": [
    "for i in tqdm(range(500)):\n",
    "    colony_1.new_round()\n",
    "    for person in p.Population.colonists_list:\n",
    "        person.stay_alive()\n",
    "    for person in p.Population.females_list:\n",
    "        person.interact()\n",
    "    print(f\"Result for Round: {p.Population.round_ticker}\")\n",
    "    print(f\"Pop: {len(colony_1.colonists_list)}\")\n",
    "    print(\"==========\")\n",
    "    if len(colony_1.colonists_list) == 0:\n",
    "        print(f\"Colony lost in Round: {p.Population.round_ticker}\")\n",
    "        break\n",
    "    p.Population.round_ticker+=1\n",
    "    "
   ]
  },
  {
   "cell_type": "code",
   "execution_count": null,
   "metadata": {},
   "outputs": [],
   "source": [
    "p.Population.graveyard_list"
   ]
  },
  {
   "cell_type": "markdown",
   "metadata": {},
   "source": [
    "### Test Half Sibling"
   ]
  },
  {
   "cell_type": "code",
   "execution_count": null,
   "metadata": {
    "scrolled": true
   },
   "outputs": [],
   "source": [
    "test3 = p.Population.graveyard_list[0][0]\n",
    "print(test3)\n",
    "test4 = p.Population.graveyard_list[1][0]\n",
    "print(test4)\n"
   ]
  },
  {
   "cell_type": "code",
   "execution_count": null,
   "metadata": {},
   "outputs": [],
   "source": [
    "set(test3.parents)"
   ]
  },
  {
   "cell_type": "code",
   "execution_count": null,
   "metadata": {},
   "outputs": [],
   "source": [
    "set(test4.parents)"
   ]
  },
  {
   "cell_type": "code",
   "execution_count": null,
   "metadata": {
    "scrolled": true
   },
   "outputs": [],
   "source": [
    "test1 = p.Population.graveyard_list[8][0]\n",
    "test1"
   ]
  },
  {
   "cell_type": "code",
   "execution_count": null,
   "metadata": {},
   "outputs": [],
   "source": [
    "test2 = p.Population.graveyard_list[10][0]\n",
    "test2"
   ]
  },
  {
   "cell_type": "code",
   "execution_count": null,
   "metadata": {},
   "outputs": [],
   "source": [
    "test1.get_relation(test2, verbose = 1)"
   ]
  },
  {
   "cell_type": "code",
   "execution_count": null,
   "metadata": {},
   "outputs": [],
   "source": [
    "test1.parents"
   ]
  },
  {
   "cell_type": "code",
   "execution_count": null,
   "metadata": {},
   "outputs": [],
   "source": [
    "test2.parents"
   ]
  },
  {
   "cell_type": "code",
   "execution_count": null,
   "metadata": {},
   "outputs": [],
   "source": [
    "len(set(test1.parents).intersection(set(test2.parents)))==1"
   ]
  },
  {
   "cell_type": "code",
   "execution_count": null,
   "metadata": {},
   "outputs": [],
   "source": [
    "georgina = p.Population.females_list[0]\n",
    "tino = p.Population.males_list[0]\n",
    "georgina , tino"
   ]
  },
  {
   "cell_type": "code",
   "execution_count": null,
   "metadata": {},
   "outputs": [],
   "source": [
    "georgina.intercourse(tino)"
   ]
  },
  {
   "cell_type": "code",
   "execution_count": null,
   "metadata": {},
   "outputs": [],
   "source": []
  }
 ],
 "metadata": {
  "kernelspec": {
   "display_name": "Python 3",
   "language": "python",
   "name": "python3"
  },
  "language_info": {
   "codemirror_mode": {
    "name": "ipython",
    "version": 3
   },
   "file_extension": ".py",
   "mimetype": "text/x-python",
   "name": "python",
   "nbconvert_exporter": "python",
   "pygments_lexer": "ipython3",
   "version": "3.7.3"
  }
 },
 "nbformat": 4,
 "nbformat_minor": 2
}
